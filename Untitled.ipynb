{
 "cells": [
  {
   "cell_type": "code",
   "execution_count": 1,
   "metadata": {
    "collapsed": true
   },
   "outputs": [],
   "source": [
    "# pip3 install --user --upgrade selenium bs4\n",
    "# pip3 install --upgrade html5lib==1.0b8"
   ]
  },
  {
   "cell_type": "code",
   "execution_count": 39,
   "metadata": {
    "collapsed": true
   },
   "outputs": [],
   "source": [
    "import time\n",
    "import re\n",
    "import datetime\n",
    "import hashlib\n",
    "import pytz\n",
    "from urllib.parse import urlparse\n",
    "from selenium import webdriver\n",
    "from selenium.webdriver.common.keys import Keys\n",
    "from selenium.webdriver.chrome.options import Options\n",
    "from selenium.webdriver.support import expected_conditions as ec\n",
    "from selenium.webdriver.support.ui import WebDriverWait\n",
    "from bs4 import BeautifulSoup\n",
    "\n",
    "\n",
    "def start_dirver(url):\n",
    "    \"\"\"Generate Selenium driver with specified url\"\"\"\n",
    "    options = Options()\n",
    "    options.add_argument('--headless') # ヘッドレスモードを有効にする\n",
    "\n",
    "    driver = webdriver.Chrome(chrome_options=options)\n",
    "    driver.set_page_load_timeout(30) #ページロードのタイムアウト(秒)\n",
    "\n",
    "    driver_wait = WebDriverWait(driver, 30) #操作した時のタイムアウト時間\n",
    "\n",
    "    driver.get(url)\n",
    "    driver_wait.until(ec.presence_of_all_elements_located) #処理待ち\n",
    "    return driver"
   ]
  },
  {
   "cell_type": "code",
   "execution_count": 18,
   "metadata": {},
   "outputs": [
    {
     "data": {
      "text/plain": [
       "['DL7906', 'JL5249', 'EY8484']"
      ]
     },
     "execution_count": 18,
     "metadata": {},
     "output_type": "execute_result"
    }
   ],
   "source": [
    "#--------------------------------------------------------------------------------------\n",
    "# get codeshare informations from planefinder.net\n",
    "#--------------------------------------------------------------------------------------\n",
    "\n",
    "def get_codeshares(flight_no):\n",
    "    url = \"https://planefinder.net/data/flight/\" + flight_no\n",
    "    driver = start_dirver(url)\n",
    "\n",
    "#     print(driver.current_url)\n",
    "    data = driver.page_source.encode('utf-8')\n",
    "    soup = BeautifulSoup(data, 'lxml')\n",
    "#     print(soup.title.string)\n",
    "\n",
    "    codeshares = []\n",
    "    for base_col in soup.find_all(class_=\"col-md-12\"):\n",
    "        h2 = base_col.find(\"h2\")\n",
    "        if h2 == None:\n",
    "            continue\n",
    "        if \"Codeshares\" in h2.string:\n",
    "            for row in base_col.find_all(\"tr\"):\n",
    "                for td in row.find_all(\"td\"):\n",
    "                    a = td.find(\"a\")\n",
    "                    if a.find(\"img\"):\n",
    "                        continue\n",
    "                    codeshares.append(a.string.strip())\n",
    "    return codeshares\n",
    "\n",
    "get_codeshares(\"KE786\")"
   ]
  },
  {
   "cell_type": "code",
   "execution_count": 33,
   "metadata": {},
   "outputs": [
    {
     "name": "stdout",
     "output_type": "stream",
     "text": [
      "https://planefinder.net/data/flight/KE786 Korean Air Flight KE786 / KAL786 | Flight Data | Plane Finder\n",
      "<div class=\"dist\">\n",
      "<span class=\"hidden-xs\">\n",
      "<span>Distance: </span><br class=\"hidden-xs\"/>\n",
      "741 km / 460 miles\n",
      "</span>\n",
      "</div>\n",
      "\n",
      "\n",
      "Distance: \n",
      "741 km / 460 miles\n",
      "\n",
      "\n"
     ]
    }
   ],
   "source": [
    "from selenium import webdriver\n",
    "from selenium.webdriver.support.ui import WebDriverWait\n",
    "from selenium.webdriver.support import expected_conditions\n",
    "from selenium.webdriver.common.by import By\n",
    "\n",
    "class Airportia:\n",
    "    def __init__(self):\n",
    "        self._base_url = \"https://www.airportia.com/flights/\"\n",
    "        self._driver = None\n",
    "        self._soup = None\n",
    "        self._loaded = False\n",
    "        \n",
    "    def load(self, flight_no):\n",
    "        url = self._base_url + flight_no\n",
    "        self._driver = start_dirver(url)\n",
    "        \n",
    "        wait = WebDriverWait(self._driver, 30)\n",
    "        element = wait.until(expected_conditions.visibility_of_element_located((By.CLASS_NAME, \"hflight-cont\")))\n",
    "#         print(element.text)\n",
    "#         print(element.get_attribute('innerHTML'))\n",
    "        self._hflight_cont_soup = BeautifulSoup(element.get_attribute('innerHTML').encode('utf-8'), 'lxml')\n",
    "        \n",
    "        data = driver.page_source.encode('utf-8')\n",
    "        soup = BeautifulSoup(data, 'lxml')\n",
    "        print(driver.current_url, soup.title.string)\n",
    "        self._soup = soup\n",
    "        self._loaded = True\n",
    "    \n",
    "    def get_distance(self):\n",
    "        if not self._loaded:\n",
    "            raise Exception('Not load yet.')\n",
    "        dist = self._hflight_cont_soup.find(class_=\"dist\")\n",
    "        dist_text = dist.text\n",
    "        print(dist)\n",
    "        print(dist.text)\n",
    "\n",
    "flight_no = \"KE786\"\n",
    "\n",
    "site = Airportia()\n",
    "site.load(flight_no)\n",
    "site.get_distance()"
   ]
  },
  {
   "cell_type": "code",
   "execution_count": 52,
   "metadata": {},
   "outputs": [
    {
     "name": "stdout",
     "output_type": "stream",
     "text": [
      "input\n"
     ]
    },
    {
     "ename": "TimeoutException",
     "evalue": "Message: \n",
     "output_type": "error",
     "traceback": [
      "\u001b[0;31m---------------------------------------------------------------------------\u001b[0m",
      "\u001b[0;31mTimeoutException\u001b[0m                          Traceback (most recent call last)",
      "\u001b[0;32m<ipython-input-52-991c112ee4ba>\u001b[0m in \u001b[0;36m<module>\u001b[0;34m()\u001b[0m\n\u001b[1;32m     14\u001b[0m \u001b[0minput_departing\u001b[0m\u001b[0;34m.\u001b[0m\u001b[0msend_keys\u001b[0m\u001b[0;34m(\u001b[0m\u001b[0mairport_from\u001b[0m\u001b[0;34m)\u001b[0m\u001b[0;34m\u001b[0m\u001b[0m\n\u001b[1;32m     15\u001b[0m \u001b[0;34m\u001b[0m\u001b[0m\n\u001b[0;32m---> 16\u001b[0;31m \u001b[0melement\u001b[0m \u001b[0;34m=\u001b[0m \u001b[0mwait\u001b[0m\u001b[0;34m.\u001b[0m\u001b[0muntil\u001b[0m\u001b[0;34m(\u001b[0m\u001b[0mexpected_conditions\u001b[0m\u001b[0;34m.\u001b[0m\u001b[0mvisibility_of_element_located\u001b[0m\u001b[0;34m(\u001b[0m\u001b[0;34m(\u001b[0m\u001b[0mBy\u001b[0m\u001b[0;34m.\u001b[0m\u001b[0mXPATH\u001b[0m\u001b[0;34m,\u001b[0m \u001b[0;34m\"//li[@suggestion]\"\u001b[0m\u001b[0;34m)\u001b[0m\u001b[0;34m)\u001b[0m\u001b[0;34m)\u001b[0m\u001b[0;34m\u001b[0m\u001b[0m\n\u001b[0m\u001b[1;32m     17\u001b[0m \u001b[0maclist\u001b[0m \u001b[0;34m=\u001b[0m \u001b[0melement\u001b[0m\u001b[0;34m.\u001b[0m\u001b[0mfind_elements_by_tag_name\u001b[0m\u001b[0;34m(\u001b[0m\u001b[0;34m\"li\"\u001b[0m\u001b[0;34m)\u001b[0m\u001b[0;34m\u001b[0m\u001b[0m\n\u001b[1;32m     18\u001b[0m \u001b[0mprint\u001b[0m\u001b[0;34m(\u001b[0m\u001b[0mlen\u001b[0m\u001b[0;34m(\u001b[0m\u001b[0maclist\u001b[0m\u001b[0;34m)\u001b[0m\u001b[0;34m)\u001b[0m\u001b[0;34m\u001b[0m\u001b[0m\n",
      "\u001b[0;32m~/Library/Python/3.6/lib/python/site-packages/selenium/webdriver/support/wait.py\u001b[0m in \u001b[0;36muntil\u001b[0;34m(self, method, message)\u001b[0m\n\u001b[1;32m     78\u001b[0m             \u001b[0;32mif\u001b[0m \u001b[0mtime\u001b[0m\u001b[0;34m.\u001b[0m\u001b[0mtime\u001b[0m\u001b[0;34m(\u001b[0m\u001b[0;34m)\u001b[0m \u001b[0;34m>\u001b[0m \u001b[0mend_time\u001b[0m\u001b[0;34m:\u001b[0m\u001b[0;34m\u001b[0m\u001b[0m\n\u001b[1;32m     79\u001b[0m                 \u001b[0;32mbreak\u001b[0m\u001b[0;34m\u001b[0m\u001b[0m\n\u001b[0;32m---> 80\u001b[0;31m         \u001b[0;32mraise\u001b[0m \u001b[0mTimeoutException\u001b[0m\u001b[0;34m(\u001b[0m\u001b[0mmessage\u001b[0m\u001b[0;34m,\u001b[0m \u001b[0mscreen\u001b[0m\u001b[0;34m,\u001b[0m \u001b[0mstacktrace\u001b[0m\u001b[0;34m)\u001b[0m\u001b[0;34m\u001b[0m\u001b[0m\n\u001b[0m\u001b[1;32m     81\u001b[0m \u001b[0;34m\u001b[0m\u001b[0m\n\u001b[1;32m     82\u001b[0m     \u001b[0;32mdef\u001b[0m \u001b[0muntil_not\u001b[0m\u001b[0;34m(\u001b[0m\u001b[0mself\u001b[0m\u001b[0;34m,\u001b[0m \u001b[0mmethod\u001b[0m\u001b[0;34m,\u001b[0m \u001b[0mmessage\u001b[0m\u001b[0;34m=\u001b[0m\u001b[0;34m''\u001b[0m\u001b[0;34m)\u001b[0m\u001b[0;34m:\u001b[0m\u001b[0;34m\u001b[0m\u001b[0m\n",
      "\u001b[0;31mTimeoutException\u001b[0m: Message: \n"
     ]
    }
   ],
   "source": [
    "# find route\n",
    "\n",
    "airport_from = \"HND\"\n",
    "\n",
    "url = \"https://applications.skyteam.com/routemapper/#/destinations/\"\n",
    "driver = start_dirver(url)\n",
    "wait = WebDriverWait(driver, 30)\n",
    "element = wait.until(expected_conditions.visibility_of_element_located((By.CLASS_NAME, \"rm-destinations-header\")))\n",
    "# print(element.get_attribute('innerHTML'))\n",
    "\n",
    "input_departing = element.find_element_by_xpath(\"//autocomplete/div/input\")\n",
    "\n",
    "print(input_departing.tag_name)\n",
    "input_departing.send_keys(airport_from)\n",
    "\n",
    "element = wait.until(expected_conditions.visibility_of_element_located((By.XPATH, \"//li[@suggestion]\")))\n",
    "aclist = element.find_elements_by_tag_name(\"li\")\n",
    "print(len(aclist))\n",
    "print(aclist[0].text)\n",
    "\n",
    "aclist[0].click()\n",
    "\n",
    "element = wait.until(expected_conditions.visibility_of_element_located((By.CLASS_NAME, \"rm-destinations-list\")))\n",
    "print(element.get_attribute('innerHTML'))\n",
    "\n"
   ]
  }
 ],
 "metadata": {
  "kernelspec": {
   "display_name": "Python 3",
   "language": "python",
   "name": "python3"
  },
  "language_info": {
   "codemirror_mode": {
    "name": "ipython",
    "version": 3
   },
   "file_extension": ".py",
   "mimetype": "text/x-python",
   "name": "python",
   "nbconvert_exporter": "python",
   "pygments_lexer": "ipython3",
   "version": "3.6.0"
  }
 },
 "nbformat": 4,
 "nbformat_minor": 2
}
